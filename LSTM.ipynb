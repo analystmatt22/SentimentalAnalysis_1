{
 "cells": [
  {
   "cell_type": "markdown",
   "id": "a5b92e61-fc65-40a2-85d6-69d1ba00c274",
   "metadata": {},
   "source": [
    "## TWITTER TEXT DATA EMOTIONAL ANALYSIS USING DEEP LEARNING AND LEXICON METHODOLOGY:"
   ]
  },
  {
   "cell_type": "code",
   "execution_count": 100,
   "id": "f900fcf6-2221-4e88-a994-25b9946fbbac",
   "metadata": {
    "tags": []
   },
   "outputs": [],
   "source": [
    "#!pip install tensorflow"
   ]
  },
  {
   "cell_type": "code",
   "execution_count": 101,
   "id": "ce8bb9db-663f-49fe-915b-de4a8fd0b519",
   "metadata": {
    "tags": []
   },
   "outputs": [],
   "source": [
    "import pandas as pd"
   ]
  },
  {
   "cell_type": "code",
   "execution_count": 102,
   "id": "01efcc15-7119-4d03-b706-295cd67e23be",
   "metadata": {
    "tags": []
   },
   "outputs": [],
   "source": [
    "import warnings\n",
    "warnings.filterwarnings(\"ignore\")"
   ]
  },
  {
   "cell_type": "code",
   "execution_count": 103,
   "id": "c492773e-6187-47be-882a-123308f94dd9",
   "metadata": {
    "tags": []
   },
   "outputs": [],
   "source": [
    "#pip install text-preprocessing"
   ]
  },
  {
   "cell_type": "code",
   "execution_count": 104,
   "id": "fc618f49-e2ee-4382-a503-19565fbebdd7",
   "metadata": {
    "tags": []
   },
   "outputs": [],
   "source": [
    "import re"
   ]
  },
  {
   "cell_type": "code",
   "execution_count": 105,
   "id": "e6a8a91c-3142-4462-9c44-fc1c8bff6b97",
   "metadata": {
    "tags": []
   },
   "outputs": [],
   "source": [
    "#Tweets review analysis:"
   ]
  },
  {
   "cell_type": "code",
   "execution_count": 201,
   "id": "84cc5275-7dbe-41c2-ad98-0120279d89d8",
   "metadata": {
    "tags": []
   },
   "outputs": [
    {
     "data": {
      "text/html": [
       "<div>\n",
       "<style scoped>\n",
       "    .dataframe tbody tr th:only-of-type {\n",
       "        vertical-align: middle;\n",
       "    }\n",
       "\n",
       "    .dataframe tbody tr th {\n",
       "        vertical-align: top;\n",
       "    }\n",
       "\n",
       "    .dataframe thead th {\n",
       "        text-align: right;\n",
       "    }\n",
       "</style>\n",
       "<table border=\"1\" class=\"dataframe\">\n",
       "  <thead>\n",
       "    <tr style=\"text-align: right;\">\n",
       "      <th></th>\n",
       "      <th>id</th>\n",
       "      <th>label</th>\n",
       "      <th>tweet</th>\n",
       "    </tr>\n",
       "  </thead>\n",
       "  <tbody>\n",
       "    <tr>\n",
       "      <th>0</th>\n",
       "      <td>1</td>\n",
       "      <td>0</td>\n",
       "      <td>@user when a father is dysfunctional and is s...</td>\n",
       "    </tr>\n",
       "    <tr>\n",
       "      <th>1</th>\n",
       "      <td>2</td>\n",
       "      <td>0</td>\n",
       "      <td>@user @user thanks for #lyft credit i can't us...</td>\n",
       "    </tr>\n",
       "    <tr>\n",
       "      <th>2</th>\n",
       "      <td>3</td>\n",
       "      <td>0</td>\n",
       "      <td>bihday your majesty</td>\n",
       "    </tr>\n",
       "    <tr>\n",
       "      <th>3</th>\n",
       "      <td>4</td>\n",
       "      <td>0</td>\n",
       "      <td>#model   i love u take with u all the time in ...</td>\n",
       "    </tr>\n",
       "    <tr>\n",
       "      <th>4</th>\n",
       "      <td>5</td>\n",
       "      <td>0</td>\n",
       "      <td>factsguide: society now    #motivation</td>\n",
       "    </tr>\n",
       "  </tbody>\n",
       "</table>\n",
       "</div>"
      ],
      "text/plain": [
       "   id  label                                              tweet\n",
       "0   1      0   @user when a father is dysfunctional and is s...\n",
       "1   2      0  @user @user thanks for #lyft credit i can't us...\n",
       "2   3      0                                bihday your majesty\n",
       "3   4      0  #model   i love u take with u all the time in ...\n",
       "4   5      0             factsguide: society now    #motivation"
      ]
     },
     "execution_count": 201,
     "metadata": {},
     "output_type": "execute_result"
    }
   ],
   "source": [
    "data = pd.read_csv(\"Downloads/Sentimental_analysis/twitter.csv\")\n",
    "data.head(5)"
   ]
  },
  {
   "cell_type": "code",
   "execution_count": 107,
   "id": "6c053187-a97d-4848-8560-f3a9c0500217",
   "metadata": {
    "tags": []
   },
   "outputs": [
    {
     "data": {
      "text/plain": [
       "array([0, 1], dtype=int64)"
      ]
     },
     "execution_count": 107,
     "metadata": {},
     "output_type": "execute_result"
    }
   ],
   "source": [
    "data['label'].unique()"
   ]
  },
  {
   "cell_type": "code",
   "execution_count": 108,
   "id": "14ef07f7-7db6-4fcb-ae85-d04d8400d505",
   "metadata": {
    "tags": []
   },
   "outputs": [
    {
     "data": {
      "text/plain": [
       "(31962, 3)"
      ]
     },
     "execution_count": 108,
     "metadata": {},
     "output_type": "execute_result"
    }
   ],
   "source": [
    "data.shape"
   ]
  },
  {
   "cell_type": "markdown",
   "id": "25e7697c-e14c-4a3c-ac26-abcfaa5f7a5b",
   "metadata": {},
   "source": [
    "### Data Preprocessing:"
   ]
  },
  {
   "cell_type": "code",
   "execution_count": 109,
   "id": "f1fba1a8-319c-4fc5-877c-129d03604171",
   "metadata": {
    "tags": []
   },
   "outputs": [],
   "source": [
    "import re"
   ]
  },
  {
   "cell_type": "code",
   "execution_count": 110,
   "id": "ab3257b0-f58d-4776-ae28-22d001cfb5f7",
   "metadata": {
    "tags": []
   },
   "outputs": [],
   "source": [
    "#import nltk\n",
    "#nltk.downlaod('stopwords')"
   ]
  },
  {
   "cell_type": "markdown",
   "id": "04d6cecc-578d-4571-9165-56bdd114bd55",
   "metadata": {},
   "source": [
    "### Data preprocessing and cleaning:"
   ]
  },
  {
   "cell_type": "code",
   "execution_count": 202,
   "id": "30b51234-912d-4500-afde-a27355a15ff1",
   "metadata": {
    "tags": []
   },
   "outputs": [],
   "source": [
    "#Data preprocessing and cleaning:\n",
    "\n",
    "def preprocess_text(text):\n",
    "    \n",
    "    #removing tags:\n",
    "    removing_tags = re.compile(r'<[^>]+>')\n",
    "    text = removing_tags.sub(\"\", text)\n",
    "    \n",
    "    #removing speacial chatracters:\n",
    "    removing_sc = re.compile(r'[^A-Za-z0-9\\s]+')\n",
    "    text = removing_sc.sub('', text)\n",
    "    \n",
    "    #removing url:\n",
    "    removing_url = re.compile(r'http[s]?://(?:[a-zA-Z]|[0-9]|[$-_@.&+]|[!*\\\\(\\\\),]|(?:%[0-9a-fA-F][0-9a-fA-F]))+')\n",
    "    text = removing_url.sub('', text)\n",
    "    \n",
    "    #lowercase:\n",
    "    text = text.lower()\n",
    "    \n",
    "    return text"
   ]
  },
  {
   "cell_type": "code",
   "execution_count": 203,
   "id": "b00509b9-a7c8-49be-a597-1a17d47d71f2",
   "metadata": {
    "tags": []
   },
   "outputs": [
    {
     "name": "stdout",
     "output_type": "stream",
     "text": [
      "0     user when a father is dysfunctional and is so...\n",
      "1    user user thanks for lyft credit i cant use ca...\n",
      "2                                  bihday your majesty\n",
      "3    model   i love u take with u all the time in u...\n",
      "4                 factsguide society now    motivation\n",
      "Name: preprocessed_tweet, dtype: object\n"
     ]
    }
   ],
   "source": [
    "data['preprocessed_tweet'] = data['tweet'].apply(preprocess_text)\n",
    "print(data['preprocessed_tweet'].head(5))"
   ]
  },
  {
   "cell_type": "code",
   "execution_count": 113,
   "id": "97752269-1d32-4f45-b829-a8ca6025d00b",
   "metadata": {
    "tags": []
   },
   "outputs": [],
   "source": [
    "#Testing;"
   ]
  },
  {
   "cell_type": "code",
   "execution_count": 204,
   "id": "475fee4b-8cae-43b7-b6aa-700268923719",
   "metadata": {},
   "outputs": [
    {
     "data": {
      "text/plain": [
       "100"
      ]
     },
     "execution_count": 204,
     "metadata": {},
     "output_type": "execute_result"
    }
   ],
   "source": [
    "data_1 = data.head(100)\n",
    "len(data_1)"
   ]
  },
  {
   "cell_type": "code",
   "execution_count": 205,
   "id": "0e0181e2-fc1d-4b48-bc45-8242df7d7a28",
   "metadata": {
    "tags": []
   },
   "outputs": [
    {
     "data": {
      "text/plain": [
       "Index(['id', 'label', 'tweet', 'preprocessed_tweet'], dtype='object')"
      ]
     },
     "execution_count": 205,
     "metadata": {},
     "output_type": "execute_result"
    }
   ],
   "source": [
    "data_1.keys()"
   ]
  },
  {
   "cell_type": "markdown",
   "id": "c85dc5a1-14f1-4aa5-9456-ddd18c0d5112",
   "metadata": {},
   "source": [
    "### Testing sentimental analysis before tokenization:"
   ]
  },
  {
   "cell_type": "code",
   "execution_count": 218,
   "id": "799d5cef-435e-4e9f-a5b6-afd13d4673a9",
   "metadata": {
    "tags": []
   },
   "outputs": [],
   "source": [
    "preprocess_data = data_1['preprocessed_tweet'].to_csv('preprocess_data.csv', index = False)"
   ]
  },
  {
   "cell_type": "code",
   "execution_count": 223,
   "id": "000d1c69-38d9-4330-b868-2eddfb56ec19",
   "metadata": {
    "tags": []
   },
   "outputs": [],
   "source": [
    "import pandas as pd\n",
    "from nltk.sentiment.vader import SentimentIntensityAnalyzer\n",
    "analyzer = SentimentIntensityAnalyzer()\n",
    "\n",
    "# Function to apply sentiment analysis to a text\n",
    "def get_sentiment_non(text):\n",
    "    sentiment = analyzer.polarity_scores(str(text))\n",
    "    return sentiment\n",
    "\n",
    "# Apply sentiment analysis to the 'stemmed_data' column and store the results in a new DataFrame\n",
    "sentiment_df = data_1['preprocessed_tweet'].copy()\n",
    "sentiment_df.reset_index(drop=True, inplace=True)\n",
    "data_1['Sentiment_of_nontoken'] = data_1['preprocessed_tweet'].apply(get_sentiment)\n",
    "\n",
    "# Extract the sentiment scores into separate columns in the sentiment_df\n",
    "data_1['compound_non'] = data_1['Sentiment_of_nontoken'].apply(lambda x: x['compound'])\n",
    "data_1['positive_non'] = data_1['compound_non'].apply(lambda x: 1 if x > 0 else 0)\n",
    "data_1['negative_non'] = data_1['compound_non'].apply(lambda x: 1 if x < 0 else 0)\n",
    "data_1['neutral_non'] = data_1['compound_non'].apply(lambda x: 1 if x == 0 else 0)\n",
    "\n",
    "sentiment_counts_non = data_1.groupby(data_1.index)[['positive_non', 'negative_non', 'neutral_non']].sum()"
   ]
  },
  {
   "cell_type": "code",
   "execution_count": 224,
   "id": "1d44ab26-aeb2-42a0-afb6-17109a2397d7",
   "metadata": {
    "tags": []
   },
   "outputs": [],
   "source": [
    "# Group by the index and sum the sentiment counts\n",
    "sentiment_counts_non = data_1[['positive_non', 'negative_non', 'neutral_non']].groupby(data_1.index).sum()\n",
    "\n",
    "# Reset the index so that the index becomes a regular column\n",
    "sentiment_counts_non.reset_index(inplace=True)\n",
    "\n",
    "# Rename the columns\n",
    "sentiment_counts_non.columns = ['Index','Positive', 'Negative', 'Neutral']\n",
    "\n",
    "# Save the DataFrame to a CSV file\n",
    "sentiment_counts_non.to_csv('sentiment_counts_non.csv', index=False)"
   ]
  },
  {
   "cell_type": "code",
   "execution_count": 214,
   "id": "799d2cf0-7ea6-407a-b32c-11e215c6c510",
   "metadata": {
    "tags": []
   },
   "outputs": [
    {
     "data": {
      "text/html": [
       "<div>\n",
       "<style scoped>\n",
       "    .dataframe tbody tr th:only-of-type {\n",
       "        vertical-align: middle;\n",
       "    }\n",
       "\n",
       "    .dataframe tbody tr th {\n",
       "        vertical-align: top;\n",
       "    }\n",
       "\n",
       "    .dataframe thead th {\n",
       "        text-align: right;\n",
       "    }\n",
       "</style>\n",
       "<table border=\"1\" class=\"dataframe\">\n",
       "  <thead>\n",
       "    <tr style=\"text-align: right;\">\n",
       "      <th></th>\n",
       "      <th>Index</th>\n",
       "      <th>Positive</th>\n",
       "      <th>Negative</th>\n",
       "      <th>Neutral</th>\n",
       "    </tr>\n",
       "  </thead>\n",
       "  <tbody>\n",
       "    <tr>\n",
       "      <th>0</th>\n",
       "      <td>0</td>\n",
       "      <td>0</td>\n",
       "      <td>1</td>\n",
       "      <td>0</td>\n",
       "    </tr>\n",
       "    <tr>\n",
       "      <th>1</th>\n",
       "      <td>1</td>\n",
       "      <td>1</td>\n",
       "      <td>0</td>\n",
       "      <td>0</td>\n",
       "    </tr>\n",
       "    <tr>\n",
       "      <th>2</th>\n",
       "      <td>2</td>\n",
       "      <td>0</td>\n",
       "      <td>0</td>\n",
       "      <td>1</td>\n",
       "    </tr>\n",
       "    <tr>\n",
       "      <th>3</th>\n",
       "      <td>3</td>\n",
       "      <td>1</td>\n",
       "      <td>0</td>\n",
       "      <td>0</td>\n",
       "    </tr>\n",
       "    <tr>\n",
       "      <th>4</th>\n",
       "      <td>4</td>\n",
       "      <td>1</td>\n",
       "      <td>0</td>\n",
       "      <td>0</td>\n",
       "    </tr>\n",
       "    <tr>\n",
       "      <th>...</th>\n",
       "      <td>...</td>\n",
       "      <td>...</td>\n",
       "      <td>...</td>\n",
       "      <td>...</td>\n",
       "    </tr>\n",
       "    <tr>\n",
       "      <th>95</th>\n",
       "      <td>95</td>\n",
       "      <td>1</td>\n",
       "      <td>0</td>\n",
       "      <td>0</td>\n",
       "    </tr>\n",
       "    <tr>\n",
       "      <th>96</th>\n",
       "      <td>96</td>\n",
       "      <td>1</td>\n",
       "      <td>0</td>\n",
       "      <td>0</td>\n",
       "    </tr>\n",
       "    <tr>\n",
       "      <th>97</th>\n",
       "      <td>97</td>\n",
       "      <td>0</td>\n",
       "      <td>0</td>\n",
       "      <td>1</td>\n",
       "    </tr>\n",
       "    <tr>\n",
       "      <th>98</th>\n",
       "      <td>98</td>\n",
       "      <td>0</td>\n",
       "      <td>0</td>\n",
       "      <td>1</td>\n",
       "    </tr>\n",
       "    <tr>\n",
       "      <th>99</th>\n",
       "      <td>99</td>\n",
       "      <td>1</td>\n",
       "      <td>0</td>\n",
       "      <td>0</td>\n",
       "    </tr>\n",
       "  </tbody>\n",
       "</table>\n",
       "<p>100 rows × 4 columns</p>\n",
       "</div>"
      ],
      "text/plain": [
       "    Index  Positive  Negative  Neutral\n",
       "0       0         0         1        0\n",
       "1       1         1         0        0\n",
       "2       2         0         0        1\n",
       "3       3         1         0        0\n",
       "4       4         1         0        0\n",
       "..    ...       ...       ...      ...\n",
       "95     95         1         0        0\n",
       "96     96         1         0        0\n",
       "97     97         0         0        1\n",
       "98     98         0         0        1\n",
       "99     99         1         0        0\n",
       "\n",
       "[100 rows x 4 columns]"
      ]
     },
     "execution_count": 214,
     "metadata": {},
     "output_type": "execute_result"
    }
   ],
   "source": [
    "sentiment_counts_non"
   ]
  },
  {
   "cell_type": "code",
   "execution_count": 217,
   "id": "606a96b8-1151-4620-98dc-77c34838f54f",
   "metadata": {
    "tags": []
   },
   "outputs": [
    {
     "data": {
      "image/png": "[encoded data removed]",
      "text/plain": [
       "<Figure size 600x600 with 1 Axes>"
      ]
     },
     "metadata": {},
     "output_type": "display_data"
    }
   ],
   "source": [
    "import matplotlib.pyplot as plt\n",
    "\n",
    "# Set a color palette for the sentiment categories\n",
    "colors = ['#ff9999', '#66b3ff', '#99ff99']\n",
    "\n",
    "# Set the bar width (adjust this value as needed)\n",
    "bar_width = 0.5  # Narrower bars\n",
    "\n",
    "# Calculate the total sentiment counts for each category\n",
    "total_positive = sentiment_counts_non['Positive'].sum()\n",
    "total_negative = sentiment_counts_non['Negative'].sum()\n",
    "total_neutral = sentiment_counts_non['Neutral'].sum()\n",
    "\n",
    "# Create a DataFrame for the total sentiment counts\n",
    "total_sentiment_counts_non = pd.DataFrame({\n",
    "    'Categories': ['Positive', 'Negative', 'Neutral'],\n",
    "    'Counts': [total_positive, total_negative, total_neutral]\n",
    "})\n",
    "\n",
    "# Plot a grouped bar chart for total sentiment distribution\n",
    "ax = total_sentiment_counts_non.plot(kind='bar', x='Categories', y='Counts', color=colors, figsize=(6, 6), width=bar_width, legend=False)\n",
    "\n",
    "# Set labels and title\n",
    "plt.title('Sentiment Analysis for Twitter Tweets')\n",
    "plt.xlabel('Sentiment Categories')\n",
    "plt.ylabel('Total Number of Sentences')\n",
    "\n",
    "# Customize the grid\n",
    "ax.yaxis.grid(color='gray', linestyle='--', linewidth=0.5)\n",
    "\n",
    "# Add labels to the bars\n",
    "for index, data in enumerate(total_sentiment_counts_non['Counts']):\n",
    "    plt.text(index, data, str(data), ha='center', va='bottom')\n",
    "\n",
    "# Show the plot\n",
    "plt.tight_layout()\n",
    "plt.show()"
   ]
  },
  {
   "cell_type": "code",
   "execution_count": null,
   "id": "2ea8963b-7bb6-4381-b56b-ed627d346040",
   "metadata": {},
   "outputs": [],
   "source": []
  },
  {
   "cell_type": "markdown",
   "id": "8959b27e-efb5-4d43-aea0-3c17fd9a577d",
   "metadata": {},
   "source": [
    "### Slang replacement:"
   ]
  },
  {
   "cell_type": "code",
   "execution_count": 117,
   "id": "0f987a72-3be7-4e4b-a65b-3722f59549eb",
   "metadata": {
    "tags": []
   },
   "outputs": [],
   "source": [
    "#Replacing the slang:\n",
    "\n",
    "import csv\n",
    "\n",
    "# Load a sample CSV dataset with slang terms and meanings\n",
    "with open('Downloads/Sentimental_analysis/SentimentalAnalysis_1-1/slang.csv', 'r') as file:\n",
    "    reader = csv.reader(file)\n",
    "    slang_mapping = {row[0]: row[1] for row in reader}\n",
    "\n",
    "# Function to replace slang in a sentence\n",
    "def replace_slang(sentence):\n",
    "    words = sentence.split()\n",
    "    replaced_words = [slang_mapping.get(word, word) for word in words]\n",
    "    return ' '.join(replaced_words)"
   ]
  },
  {
   "cell_type": "code",
   "execution_count": 118,
   "id": "e4d4d16b-54c3-4c5f-944e-6e0da14bff12",
   "metadata": {
    "tags": []
   },
   "outputs": [
    {
     "data": {
      "text/plain": [
       "pandas.core.series.Series"
      ]
     },
     "execution_count": 118,
     "metadata": {},
     "output_type": "execute_result"
    }
   ],
   "source": [
    "type(data_1['preprocessed_tweet'])"
   ]
  },
  {
   "cell_type": "code",
   "execution_count": 119,
   "id": "b4860725-aa36-4320-a410-c871760b1074",
   "metadata": {
    "tags": []
   },
   "outputs": [
    {
     "data": {
      "text/plain": [
       "0    user when a father is dysfunctional and is so ...\n",
       "1    user user thanks for lyft credit i cant use ca...\n",
       "2                                  bihday your majesty\n",
       "3        model i love u take with u all the time in ur\n",
       "4                    factsguide society now motivation\n",
       "Name: cleaned_sentence, dtype: object"
      ]
     },
     "execution_count": 119,
     "metadata": {},
     "output_type": "execute_result"
    }
   ],
   "source": [
    "# Apply the function to a Pandas Series of sentences\n",
    "data_1['cleaned_sentence'] = data_1['preprocessed_tweet'].apply(replace_slang)\n",
    "data_1['cleaned_sentence'].head(5)"
   ]
  },
  {
   "cell_type": "code",
   "execution_count": 120,
   "id": "f0511ecd-d9c8-4c9c-8b06-1bc5b7cb2a7c",
   "metadata": {
    "tags": []
   },
   "outputs": [],
   "source": [
    "#Pending: grammar mistake, meaningless sentence, spelling mistakes, multilingual text, sarcasm, ambiguity\n",
    "#I feel that grammar mistake does not make much impact as we are checking the sentence based on the vector weights given to each token\n",
    "#Maybe we shall find a solution to identify wrongly written sentence and rearrange texts to make it meanigful"
   ]
  },
  {
   "cell_type": "markdown",
   "id": "597a6294-8d87-43d7-a866-adfed619ebdb",
   "metadata": {},
   "source": [
    "### Lexicon: TextBlob"
   ]
  },
  {
   "cell_type": "code",
   "execution_count": 121,
   "id": "5e7e8896-d3bd-4576-813f-98278a667d19",
   "metadata": {
    "tags": []
   },
   "outputs": [],
   "source": [
    "#Addressing spelling mistakes and grammatical erros involves NLP tools. We shall use TextBlob for spelling correction & POS tag:\n",
    "\n",
    "#!pip install textblob"
   ]
  },
  {
   "cell_type": "markdown",
   "id": "c6d4bae6-4788-4e64-a55b-73ed00aaa341",
   "metadata": {},
   "source": [
    "### Correcting the spelling and grammar:"
   ]
  },
  {
   "cell_type": "code",
   "execution_count": 122,
   "id": "c1a0981e-d253-44f4-a352-359ecee6c2c5",
   "metadata": {
    "tags": []
   },
   "outputs": [],
   "source": [
    "from textblob import TextBlob\n",
    "\n",
    "def correct_spelling_and_grammar(text):\n",
    "    # Create a TextBlob object with the input text\n",
    "    blob = TextBlob(text)\n",
    "    \n",
    "    # Correct spelling mistakes in the text\n",
    "    corrected_text = blob.correct()\n",
    "    \n",
    "    # Perform part-of-speech tagging to identify and correct grammatical errors\n",
    "    # This step helps in identifying and correcting grammar issues, but it may not catch all errors.\n",
    "    #tagged_text = corrected_text.correct()\n",
    "    \n",
    "    return corrected_text"
   ]
  },
  {
   "cell_type": "code",
   "execution_count": 123,
   "id": "5b5350b9-f9eb-4dce-b704-03cbd362736f",
   "metadata": {
    "tags": []
   },
   "outputs": [
    {
     "name": "stdout",
     "output_type": "stream",
     "text": [
      "0    user when a father is dysfunctional and is so ...\n",
      "1    user user thanks for left credit i can use cau...\n",
      "2                                  midday your majesty\n",
      "3        model i love u take with u all the time in or\n",
      "4                    factsguide society now motivation\n",
      "Name: spelling, dtype: object\n",
      "Runtime for spelling correction framework is: 69.98865985870361\n"
     ]
    }
   ],
   "source": [
    "import time\n",
    "start = time.time()\n",
    "\n",
    "#The correct_spelling_and_grammar function returns a TextBlob object. \n",
    "#To obtain the corrected text as a string, you need to extract the string representation of the TextBlob using the str method.\n",
    "\n",
    "data_1['spelling'] = data_1['cleaned_sentence'].apply(correct_spelling_and_grammar).apply(str)\n",
    "print(data_1['spelling'].head(5))\n",
    "\n",
    "end = time.time()\n",
    "total_time = print(f'Runtime for spelling correction framework is: {end-start}')"
   ]
  },
  {
   "cell_type": "code",
   "execution_count": 124,
   "id": "8e6b4a75-ee4a-4758-8931-069ecdf02366",
   "metadata": {
    "tags": []
   },
   "outputs": [
    {
     "data": {
      "text/plain": [
       "Index(['id', 'label', 'tweet', 'preprocessed_tweet', 'cleaned_sentence',\n",
       "       'spelling'],\n",
       "      dtype='object')"
      ]
     },
     "execution_count": 124,
     "metadata": {},
     "output_type": "execute_result"
    }
   ],
   "source": [
    "data_1.keys() #column names"
   ]
  },
  {
   "cell_type": "code",
   "execution_count": 125,
   "id": "25d7a80d-c20c-447f-af0c-5e0dce848c73",
   "metadata": {
    "tags": []
   },
   "outputs": [],
   "source": [
    "#To tokenize sentences into words or subword units, you can use various Python libraries and tools using NLTK\n",
    "#One popular library for this task is the Natural Language Toolkit (NLTK).\n",
    "\n",
    "#!pip install nltk"
   ]
  },
  {
   "cell_type": "markdown",
   "id": "00ee7aaf-9913-4cd3-b535-a860194cd941",
   "metadata": {},
   "source": [
    "### Tokenizing:"
   ]
  },
  {
   "cell_type": "code",
   "execution_count": 126,
   "id": "eea616bb-6678-4a60-b6fd-e51fa824dfb2",
   "metadata": {
    "tags": []
   },
   "outputs": [
    {
     "name": "stdout",
     "output_type": "stream",
     "text": [
      "[['This', 'is', 'a', 'sample', 'sentence', '.'], ['Another', 'sentence', 'follows', '.']]\n"
     ]
    }
   ],
   "source": [
    "import nltk\n",
    "#nltk.download('punkt')  # Download necessary resources\n",
    "\n",
    "from nltk.tokenize import word_tokenize, sent_tokenize\n",
    "\n",
    "def tokenize_sentences(text):\n",
    "    # Tokenize the text into sentences\n",
    "    sentences = sent_tokenize(text)\n",
    "    #The sent_tokenize function from NLTK (Natural Language Toolkit) is used to split a given text into individual sentences. \n",
    "    #It recognizes sentence boundaries in the text based on punctuation and capitalization patterns.\n",
    "    \n",
    "    # Tokenize each sentence into words\n",
    "    tokenized_sentences = [word_tokenize(i) for i in sentences]\n",
    "    \n",
    "    return tokenized_sentences\n",
    "\n",
    "# Example usage:\n",
    "input_text = \"This is a sample sentence. Another sentence follows.\" #Text will be sentence individually and then tokenized\n",
    "output_text = tokenize_sentences(input_text)\n",
    "print(output_text)"
   ]
  },
  {
   "cell_type": "code",
   "execution_count": 127,
   "id": "d103eae9-b8c6-4913-8861-b3ec7afa9caa",
   "metadata": {
    "tags": []
   },
   "outputs": [
    {
     "name": "stdout",
     "output_type": "stream",
     "text": [
      "0    [[user, when, a, father, is, dysfunctional, an...\n",
      "1    [[user, user, thanks, for, left, credit, i, ca...\n",
      "2                            [[midday, your, majesty]]\n",
      "3    [[model, i, love, u, take, with, u, all, the, ...\n",
      "4             [[factsguide, society, now, motivation]]\n",
      "Name: token_data, dtype: object\n"
     ]
    }
   ],
   "source": [
    "data_1['token_data'] = data_1['spelling'].apply(tokenize_sentences)\n",
    "print(data_1['token_data'].head(5))"
   ]
  },
  {
   "cell_type": "code",
   "execution_count": 128,
   "id": "9ba588fb-8f60-4851-9620-d3ee9819d6f0",
   "metadata": {
    "tags": []
   },
   "outputs": [],
   "source": [
    "#Above data is nested list or list of lists"
   ]
  },
  {
   "cell_type": "markdown",
   "id": "92169a1e-439e-4de5-94d8-905393408c48",
   "metadata": {
    "tags": []
   },
   "source": [
    "### Stopwords removal using NLTK:\n",
    "\n",
    "#To remove stop words from a text in Python, you can use libraries like NLTK (Natural Language Toolkit) or spaCy.\n",
    "\n",
    "#NLTK"
   ]
  },
  {
   "cell_type": "code",
   "execution_count": 129,
   "id": "1bf8dff9-84f7-4a5a-9f7a-a918c749dbf0",
   "metadata": {},
   "outputs": [
    {
     "name": "stderr",
     "output_type": "stream",
     "text": [
      "[nltk_data] Downloading package stopwords to\n",
      "[nltk_data]     C:\\Users\\DeepakMathew\\AppData\\Roaming\\nltk_data...\n",
      "[nltk_data]   Package stopwords is already up-to-date!\n"
     ]
    },
    {
     "data": {
      "text/plain": [
       "True"
      ]
     },
     "execution_count": 129,
     "metadata": {},
     "output_type": "execute_result"
    }
   ],
   "source": [
    "from nltk.corpus import stopwords\n",
    "nltk.download('stopwords')"
   ]
  },
  {
   "cell_type": "code",
   "execution_count": 130,
   "id": "e6598905-2b78-4903-9e78-88d8610b7954",
   "metadata": {
    "tags": []
   },
   "outputs": [],
   "source": [
    "def remove_stopwords(words):\n",
    "    # Get a set of English stop words\n",
    "    stop_words = set(stopwords.words(\"english\"))\n",
    "    \n",
    "    # Remove stop words from the list of words\n",
    "    filtered_words = [word for word in words[0] if word not in stop_words]\n",
    "    \n",
    "    return filtered_words"
   ]
  },
  {
   "cell_type": "code",
   "execution_count": 131,
   "id": "c58da885-4b88-4e3a-9559-8c46b82bf172",
   "metadata": {
    "tags": []
   },
   "outputs": [
    {
     "name": "stdout",
     "output_type": "stream",
     "text": [
      "0    [user, father, dysfunctional, selfish, drags, ...\n",
      "1    [user, user, thanks, left, credit, use, cause,...\n",
      "2                                    [midday, majesty]\n",
      "3                      [model, love, u, take, u, time]\n",
      "4                    [factsguide, society, motivation]\n",
      "Name: data_remove_stopwords, dtype: object\n"
     ]
    }
   ],
   "source": [
    "data_1['data_remove_stopwords'] = [remove_stopwords(i) for i in data_1['token_data']]\n",
    "\n",
    "print(data_1['data_remove_stopwords'].head(5))"
   ]
  },
  {
   "cell_type": "markdown",
   "id": "efe33e95-5b50-4d52-adb7-80b88bcab039",
   "metadata": {
    "tags": []
   },
   "source": [
    "### Lemmatization and Stemming:"
   ]
  },
  {
   "cell_type": "raw",
   "id": "5913cb2f-f7db-4001-9fcb-780d77f8942b",
   "metadata": {},
   "source": [
    "Lemmatization is a text normalization technique in natural language processing (NLP) that reduces words to their base or dictionary form, known as the \"lemma.\" This process helps in reducing the dimensionality of text data and can improve the accuracy of text analysis tasks such as text classification, sentiment analysis, and information retrieval."
   ]
  },
  {
   "cell_type": "raw",
   "id": "a17a7614-aa29-4668-8195-2cb25305bf7f",
   "metadata": {},
   "source": [
    "Stemming is a text normalization technique in natural language processing (NLP) that aims to reduce words to their word stems or root forms. The process involves removing prefixes and suffixes from words to obtain a common base form. The resulting stem may not always be a valid word, but it represents the core meaning of related words."
   ]
  },
  {
   "cell_type": "raw",
   "id": "7738a961-cc40-40b4-8747-7a2bc0764508",
   "metadata": {},
   "source": [
    "Using POS information improves the accuracy of lemmatization. It ensures that the lemmatizer selects the most appropriate base form for a word, taking into account its grammatical context. Part-of-speech (POS) tags are used in lemmatization to disambiguate word meanings and determine the correct lemma (base form) of a word based on its grammatical role within a sentence. "
   ]
  },
  {
   "cell_type": "code",
   "execution_count": 132,
   "id": "d4020332-f803-46d4-a483-5d17eab9be4a",
   "metadata": {
    "tags": []
   },
   "outputs": [],
   "source": [
    "from nltk.stem import WordNetLemmatizer, PorterStemmer\n",
    "from nltk.corpus import wordnet"
   ]
  },
  {
   "cell_type": "code",
   "execution_count": 133,
   "id": "663d30d8-21b9-4345-b7cd-167f0c728b21",
   "metadata": {
    "tags": []
   },
   "outputs": [],
   "source": [
    "# Initialize the NLTK lemmatizer and stemmer\n",
    "lemmatizer = WordNetLemmatizer()\n",
    "stemmer = PorterStemmer()\n",
    "\n",
    "# Function to get WordNet POS tags for lemmatization\n",
    "def get_wordnet_pos(word):\n",
    "    tag = nltk.pos_tag([word])[0][1][0].upper()\n",
    "    tag_dict = {\"J\": wordnet.ADJ, \"N\": wordnet.NOUN, \"V\": wordnet.VERB, \"R\": wordnet.ADV}\n",
    "    return tag_dict.get(tag, wordnet.NOUN)\n",
    "\n",
    "# Function to lemmatize a single word\n",
    "def lemmatize_word(word):\n",
    "    return lemmatizer.lemmatize(word, get_wordnet_pos(word))\n",
    "\n",
    "# Function to stem a single word\n",
    "def stem_word(word):\n",
    "    return stemmer.stem(word)"
   ]
  },
  {
   "cell_type": "code",
   "execution_count": 134,
   "id": "d2f31c2a-e88f-4df5-a10c-311e366d1591",
   "metadata": {
    "tags": []
   },
   "outputs": [
    {
     "name": "stdout",
     "output_type": "stream",
     "text": [
      "   id  label                                              tweet  \\\n",
      "0   1      0   @user when a father is dysfunctional and is s...   \n",
      "1   2      0  @user @user thanks for #lyft credit i can't us...   \n",
      "2   3      0                                bihday your majesty   \n",
      "3   4      0  #model   i love u take with u all the time in ...   \n",
      "4   5      0             factsguide: society now    #motivation   \n",
      "\n",
      "                                  preprocessed_tweet  \\\n",
      "0   user when a father is dysfunctional and is so...   \n",
      "1  user user thanks for lyft credit i cant use ca...   \n",
      "2                                bihday your majesty   \n",
      "3  model   i love u take with u all the time in u...   \n",
      "4               factsguide society now    motivation   \n",
      "\n",
      "                                    cleaned_sentence  \\\n",
      "0  user when a father is dysfunctional and is so ...   \n",
      "1  user user thanks for lyft credit i cant use ca...   \n",
      "2                                bihday your majesty   \n",
      "3      model i love u take with u all the time in ur   \n",
      "4                  factsguide society now motivation   \n",
      "\n",
      "                                            spelling  \\\n",
      "0  user when a father is dysfunctional and is so ...   \n",
      "1  user user thanks for left credit i can use cau...   \n",
      "2                                midday your majesty   \n",
      "3      model i love u take with u all the time in or   \n",
      "4                  factsguide society now motivation   \n",
      "\n",
      "                                          token_data  \\\n",
      "0  [[user, when, a, father, is, dysfunctional, an...   \n",
      "1  [[user, user, thanks, for, left, credit, i, ca...   \n",
      "2                          [[midday, your, majesty]]   \n",
      "3  [[model, i, love, u, take, with, u, all, the, ...   \n",
      "4           [[factsguide, society, now, motivation]]   \n",
      "\n",
      "                               data_remove_stopwords  \\\n",
      "0  [user, father, dysfunctional, selfish, drags, ...   \n",
      "1  [user, user, thanks, left, credit, use, cause,...   \n",
      "2                                  [midday, majesty]   \n",
      "3                    [model, love, u, take, u, time]   \n",
      "4                  [factsguide, society, motivation]   \n",
      "\n",
      "                                     lemmatized_data  \\\n",
      "0  [user, father, dysfunctional, selfish, drag, k...   \n",
      "1  [user, user, thanks, left, credit, use, cause,...   \n",
      "2                                  [midday, majesty]   \n",
      "3                    [model, love, u, take, u, time]   \n",
      "4                  [factsguide, society, motivation]   \n",
      "\n",
      "                                        stemmed_data  \n",
      "0  [user, father, dysfunct, selfish, drag, kiss, ...  \n",
      "1  [user, user, thank, left, credit, use, caus, d...  \n",
      "2                                  [midday, majesti]  \n",
      "3                    [model, love, u, take, u, time]  \n",
      "4                        [factsguid, societi, motiv]  \n"
     ]
    }
   ],
   "source": [
    "# Apply lemmatization and stemming functions to the DataFrame element-wise\n",
    "data_1['lemmatized_data'] = data_1['data_remove_stopwords'].apply(lambda words: [lemmatize_word(word) for word in words])\n",
    "data_1['stemmed_data'] = data_1['data_remove_stopwords'].apply(lambda words: [stem_word(word) for word in words])\n",
    "\n",
    "# Display the DataFrame\n",
    "print(data_1.head(5))"
   ]
  },
  {
   "cell_type": "code",
   "execution_count": 135,
   "id": "97fa79ee-6af7-47dd-b101-59745485640c",
   "metadata": {
    "tags": []
   },
   "outputs": [
    {
     "data": {
      "text/plain": [
       "Index(['id', 'label', 'tweet', 'preprocessed_tweet', 'cleaned_sentence',\n",
       "       'spelling', 'token_data', 'data_remove_stopwords', 'lemmatized_data',\n",
       "       'stemmed_data'],\n",
       "      dtype='object')"
      ]
     },
     "execution_count": 135,
     "metadata": {},
     "output_type": "execute_result"
    }
   ],
   "source": [
    "data_1.keys()"
   ]
  },
  {
   "cell_type": "code",
   "execution_count": 136,
   "id": "6b335530-950c-4050-9fd6-4d30da5a7f38",
   "metadata": {
    "tags": []
   },
   "outputs": [
    {
     "data": {
      "text/plain": [
       "Index(['id', 'label', 'tweet', 'lemmatized_data', 'stemmed_data'], dtype='object')"
      ]
     },
     "execution_count": 136,
     "metadata": {},
     "output_type": "execute_result"
    }
   ],
   "source": [
    "data_1.drop(['preprocessed_tweet', 'cleaned_sentence', 'spelling', 'token_data', 'data_remove_stopwords'], axis = 1, inplace =True)\n",
    "data_1.keys()"
   ]
  },
  {
   "cell_type": "code",
   "execution_count": 137,
   "id": "7ebecb42-9ff7-40c5-8b4f-5ebd9fa6b908",
   "metadata": {
    "tags": []
   },
   "outputs": [
    {
     "data": {
      "text/plain": [
       "(100, 2)"
      ]
     },
     "execution_count": 137,
     "metadata": {},
     "output_type": "execute_result"
    }
   ],
   "source": [
    "drop_list= ['id', 'label', 'tweet']\n",
    "data_1.drop(columns = drop_list, inplace = True, axis=1)\n",
    "data_1.shape"
   ]
  },
  {
   "cell_type": "code",
   "execution_count": 138,
   "id": "4e740248-543d-4fae-abee-520644dde700",
   "metadata": {
    "tags": []
   },
   "outputs": [
    {
     "data": {
      "text/plain": [
       "Index(['lemmatized_data', 'stemmed_data'], dtype='object')"
      ]
     },
     "execution_count": 138,
     "metadata": {},
     "output_type": "execute_result"
    }
   ],
   "source": [
    "data_1.keys()"
   ]
  },
  {
   "cell_type": "code",
   "execution_count": null,
   "id": "c326cb07-4631-4f9a-8973-1859d2081aae",
   "metadata": {},
   "outputs": [],
   "source": []
  },
  {
   "cell_type": "code",
   "execution_count": null,
   "id": "7bcf26b9-8d67-4bc0-949b-7942b8a3e1e6",
   "metadata": {},
   "outputs": [],
   "source": []
  },
  {
   "cell_type": "code",
   "execution_count": 99,
   "id": "d770ef65-ca8c-452a-8033-65d245f1a01c",
   "metadata": {
    "tags": []
   },
   "outputs": [],
   "source": [
    "#TESTING FOR THE UNIQUE WORDS AND CORRECTING THE SPELLING:"
   ]
  },
  {
   "cell_type": "code",
   "execution_count": 71,
   "id": "659ac024-e6ca-472b-ade5-08887a179bb6",
   "metadata": {
    "tags": []
   },
   "outputs": [
    {
     "data": {
      "text/plain": [
       "numpy.ndarray"
      ]
     },
     "execution_count": 71,
     "metadata": {},
     "output_type": "execute_result"
    }
   ],
   "source": [
    "type(unique_lists)"
   ]
  },
  {
   "cell_type": "code",
   "execution_count": 77,
   "id": "8943d428-cb29-49bb-a631-e61657bcdddc",
   "metadata": {
    "tags": []
   },
   "outputs": [
    {
     "name": "stdout",
     "output_type": "stream",
     "text": [
      "['basilicabotanica', 'arriv', 'say', 'journey', 'much', 'chatiado', 'japanes', 'midst', 'get', 'cours', 'gamedev', 'centuri', 'cleveland', 'cave', 'money', 'man', 'power', 'blue', 'oil', 'piec', 'prove', 'need', 'h', 'got', 'went', 'orlandoshoot', 'style', 'cycl', 'new', 'market', 'hottweet', 'clevelandcavali', 'sunday', 'surgeri', 'brochur', 'smile', 'udtapunjab', 'celebr', 'line', 'bridg', 'babe', 'school', 'never', 'social', 'everi', 'back', 'gold', 'alohafriday', 'solo', 'donna', 'histori', 'domin', 'drink', 'sign', 'scumbaggeri', 'due', 'chanc', 'know', 'old', 'one', 'organ', 'servic', 'drag', 'mountaintop', 'chao', 'preschool', 'fan', 'job', 'ripinkylif', 'run', 'model', 'carri', 'play', 'great', 'like', 'altwaystoh', 'hello', 'ador', 'candid', 'previou', 'friday', 'gave', 'turn', 'wrap', 'kiss', 'fire', 'golfstrengthandcondit', 'clearli', 'bull', 'call', 'australia', 'ride', 'whitesupremaci', 'posit', 'done', 'morn', 'girl', 'lost', 'grm', 'finish', 'petenka', 'might', 'night', 'ray', 'strong', 'name', 'direct', 'oh', 'actorslif', 'shopalyssa', 'ident', 'med', 'mr', 'music', 'fare', 'tool', 'hit', 'nightclub', 'champion', 'garden', 'white', 'yeah', 'roll', 'two', 'laugh', 'tonight', 'stuff', 'kick', 'cat', 'feel', 'knock', 'nice', 'mean', 'motiv', 'amarind', 'show', 'revolutionschool', 'receiv', 'hope', 'valu', 'unbeliev', 'must', 'healthi', 'biggerproblem', 'monday', 'grow', 'mind', 'octob', 'daytim', 'pulseshoot', 'differ', 'bookworm', 'barqu', 'sad', 'race', 'use', 'dandi', 'easier', 'hate', 'word', 'poland', 'tomorrow', 'delay', 'greathonour', 'squad', 'mediat', 'thejourneybegin', 'watchthisspac', 'newmus', 'cool', 'around', 'perform', 'think', 'book', 'turkey', 'includ', 'belief', 'via', 'societi', 'left', 'announc', 'test', 'wait', 'pennsylvania', 'life', 'coupl', 'remov', 'guitar', 'dontphotoshopeveryth', 'danc', 'super', 'next', 'vote', 'far', 'heal', 'insecur', 'driveway', 'wateringhol', 'first', 'watch', 'exist', 'product', 'campfir', 'coneofsham', 'amaz', 'letter', 'alright', 'blow', 'travelingram', 'disabl', 'last', 'accept', 'jealou', 'final', 'kid', 'echeveria', 'bliss', 'daughter', 'abl', 'welcom', 'careerconvo', 'look', 'dysfunct', 'disappoint', 'snapchat', 'miss', 'badmonday', 'ff', 'big', 'week', 'fat', 'alway', 'reread', 'hug', 'thing', 'fatherli', 'sometim', 'home', 'disput', 'vermillionr', 'brow', 'christian', 'go', 'nake', 'vendor', 'index', 'indiedev', 'mon', 'bloom', 'goe', 'student', 'good', 'happi', 'gun', 'member', 'u', 'voic', 'hump', 'embrac', 'michigan', 'albanpilgrimag', 'allshowandnogo', 'year', 'happen', 'indiegamedev', 'wheelchair', 'yugyoem', 'innov', 'father', 'soon', 'middl', 'northern', 'natalya', 'releas', 'episod', 'ill', 'wife', 'forev', 'thank', 'cheer', 'ye', 'hey', 'ferrarimerc', 'nose', 'org', 'leak', 'midday', 'roar', 'readi', 'travel', 'heabreak', 'weather', 'beauti', 'goodtim', 'fellow', 'selfish', 'sing', 'seashepherd', 'gettingf', 'christinagrimmi', 'sunshin', 'thecov', '02', 'fight', 'enoughisenough', 'public', 'bar', 'chant', 'bulk', 'upsideofflorida', 'bloomsflow', 'fuss', 'son', 'summertim', 'orlando', 'way', 'begin', 'credit', 'imagin', 'land', 'us', 'finger', 'promot', 'bodi', 'away', 'wrong', '05', 'want', 'littl', 'fore', 'solut', 'take', 'climb', 'oxygen', 'ontothenextnovel', 'rais', 'point', 'master', 'huge', 'regurgit', 'tell', 'th', 'open', 'ouchjunior', 'someth', 'best', 'pm', 'ferri', 'debt', 'fun', 'gap', 'championship', '2m2h', 'cultureofdevelop', 'wed', 'hotvideo', 'pox', 'badli', 'goodnight', 'w', 'concelebr', 'prayfororlando', 'famili', 'establish', 'scot', 'close', 'snake', 'lump', 'euro2016', 'aah', 'scourg', 'edwardsvil', 'christinarip', 'media', 'wont', 'sure', 'amp', 'coloni', 'let', 'right', 'enjoy', 'van', 'cloudi', 'hour', 'getthank', 'caus', 'wheresallthenaturalphoto', 'hawaiian', 'lure', 'pa', 'tartar', 'design', 'angrygot7', 'allen', 'wors', 'shoot', 'piano', 'build', 'comment', 'seek', 'neverump', 'felixfoisgolf', 'network', 'throwback', 'door', 'sky', 'na', 'pass', 'illustr', 'awhil', 'offic', 'dont', 'wall', 'chemic', 'user', 'beyond', 'panel', 'men', 'junior', 'black', 'camp', 'florida', 'terrorist', 'instahappyday', 'pulseclub', 'action', 'may', 'agre', 'bike', 'funni', 'talk', 'iphonesia', 'memori', 'weekend', 'world', 'like4lik', 'monochrom', 'shot', 'sex', 'everyth', 'affirm', 'midweek', 'peopl', 'essenti', 'riporlando', 'lui', 'hard', 'xenophobia', 'work', 'ha', 'wine', 'long', 'zpamdelacruz', 'rip', 'video', 'cap', 'consum', 'shown', 'leav', 'helpcovedolphin', 'space', 'taylorswift1989', 'disneygatorattack', 'sake', 'made', 'majesti', 'sadli', 'positivevib', 'silver', 'self', 'proud', 'presidenti', 'blame', 'confer', 'venusexchang', 'grimmi', 'ireland', 'peac', 'realli', 'free', 'lead', 'conced', 'victim', 'personalis', 'offer', 'opkillingbay', 'station', 'exam', 'share', 'number', 'love', 'trot', 'factsguid', 'standwithorlando', 'role', 'make', 'goal', 'whatev', 'probe', 'stop', 'cedarpoint', 'excit', 'pay', 'day', 'pressconfer', 'woohoo', 'daddi', 'whenev', 'incred', 'photoshop', 'help', 'shop', 'paper', 'abc2020', 'channel', 'price', 'ica16', 'place', 'acid', 'jam', 'valravn', '4500', 'folk', 'control', 'time', 'today', 'see', 'senseaboutmath', 'playoff', 'learn', 'fashion']\n"
     ]
    }
   ],
   "source": [
    "# Flatten the list of lists into a single list and printing the unique words:\n",
    "flat_words_list = [word for sentence in data_1['stemmed_data'] for word in sentence]\n",
    "\n",
    "# Get unique words from the flattened list\n",
    "unique_words = list(set(flat_words_list))\n",
    "\n",
    "# Print the unique words\n",
    "print(unique_words)"
   ]
  },
  {
   "cell_type": "markdown",
   "id": "0fb45593-63ee-44f2-a147-c261f8d2d393",
   "metadata": {
    "tags": []
   },
   "source": [
    "### Sentiment Intensity Analyzer:"
   ]
  },
  {
   "cell_type": "code",
   "execution_count": 166,
   "id": "9081e3a7-078f-4307-80a8-52842cd25275",
   "metadata": {
    "tags": []
   },
   "outputs": [],
   "source": [
    "import pandas as pd\n",
    "from nltk.sentiment.vader import SentimentIntensityAnalyzer\n",
    "analyzer = SentimentIntensityAnalyzer()\n",
    "\n",
    "# Function to apply sentiment analysis to a text\n",
    "def get_sentiment(text):\n",
    "    sentiment = analyzer.polarity_scores(str(text))\n",
    "    return sentiment\n",
    "\n",
    "# Apply sentiment analysis to the 'stemmed_data' column and store the results in a new DataFrame\n",
    "sentiment_df = data_1['stemmed_data'].copy()\n",
    "sentiment_df.reset_index(drop=True, inplace=True)\n",
    "data_1['Sentiment'] = data_1['stemmed_data'].apply(get_sentiment)\n",
    "\n",
    "# Extract the sentiment scores into separate columns in the sentiment_df\n",
    "data_1['compound'] = data_1['Sentiment'].apply(lambda x: x['compound'])\n",
    "data_1['positive'] = data_1['compound'].apply(lambda x: 1 if x > 0 else 0)\n",
    "data_1['negative'] = data_1['compound'].apply(lambda x: 1 if x < 0 else 0)\n",
    "data_1['neutral'] = data_1['compound'].apply(lambda x: 1 if x == 0 else 0)\n",
    "\n",
    "sentiment_counts = data_1.groupby(data_1.index)[['positive', 'negative', 'neutral']].sum()"
   ]
  },
  {
   "cell_type": "code",
   "execution_count": 163,
   "id": "2c136244-2bfd-4dbf-9d25-9692f598ddeb",
   "metadata": {
    "tags": []
   },
   "outputs": [],
   "source": [
    "data_1['Sentiment']\n",
    "\n",
    "# Create a DataFrame with the unique words\n",
    "unique_score = data_1['Sentiment']\n",
    "\n",
    "# Save the DataFrame to a CSV file\n",
    "unique_score.to_csv('unique_score_1.csv', index=False)"
   ]
  },
  {
   "cell_type": "code",
   "execution_count": 181,
   "id": "ffbbb623-15e8-4856-a037-aa6f555a9998",
   "metadata": {
    "tags": []
   },
   "outputs": [],
   "source": [
    "#DONT CONSIDER THIS ONE: USE THIS ONE FOR NON TOKENIZED INPUT:\n",
    "\n",
    "import pandas as pd\n",
    "from nltk.sentiment.vader import SentimentIntensityAnalyzer\n",
    "analyzer = SentimentIntensityAnalyzer()\n",
    "\n",
    "# Function to apply sentiment analysis to a text\n",
    "def get_sentiment(text):\n",
    "    sentiment = analyzer.polarity_scores(str(text))\n",
    "    return sentiment\n",
    "\n",
    "# Convert lists in 'stemmed_data' to strings\n",
    "data_1['stemmed_data_str'] = data_1['stemmed_data'].apply(lambda x: ' '.join(map(str, x)))\n",
    "\n",
    "# Apply sentiment analysis to the 'stemmed_data_str' column\n",
    "data_1['Sentiment'] = data_1['stemmed_data_str'].apply(get_sentiment)\n",
    "\n",
    "# Extract the sentiment scores into separate columns\n",
    "data_1['compound'] = data_1['Sentiment'].apply(lambda x: x['compound'])\n",
    "data_1['positive'] = data_1['compound'].apply(lambda x: 1 if x > 0 else 0)\n",
    "data_1['negative'] = data_1['compound'].apply(lambda x: 1 if x < 0 else 0)\n",
    "data_1['neutral'] = data_1['compound'].apply(lambda x: 1 if x == 0 else 0)\n",
    "\n",
    "# Group by 'stemmed_data_str' and sum the sentiment counts\n",
    "\n",
    "sentiment_counts = data_1.groupby('stemmed_data_str')[['positive', 'negative', 'neutral']].sum()"
   ]
  },
  {
   "cell_type": "code",
   "execution_count": 191,
   "id": "7b4c2238-0135-4b08-931a-3865db040e35",
   "metadata": {
    "tags": []
   },
   "outputs": [],
   "source": [
    "# Group by the index and sum the sentiment counts\n",
    "sentiment_counts = data_1[['positive', 'negative', 'neutral']].groupby(data_1.index).sum()\n",
    "\n",
    "# Reset the index so that the index becomes a regular column\n",
    "sentiment_counts.reset_index(inplace=True)\n",
    "\n",
    "# Rename the columns\n",
    "sentiment_counts.columns = ['Index', 'Positive', 'Negative', 'Neutral']\n",
    "\n",
    "# Save the DataFrame to a CSV file\n",
    "sentiment_counts.to_csv('sentiment_counts.csv', index=False)"
   ]
  },
  {
   "cell_type": "code",
   "execution_count": 192,
   "id": "d1b0d622-2828-4418-a522-55b12aab6931",
   "metadata": {
    "tags": []
   },
   "outputs": [],
   "source": [
    "stemmed_data = data_1['stemmed_data']\n",
    "stemmed_data.to_csv('stemmed_data.csv', index = False)"
   ]
  },
  {
   "cell_type": "code",
   "execution_count": 179,
   "id": "7f6f542d-8506-411a-a505-97192abbe663",
   "metadata": {
    "tags": []
   },
   "outputs": [
    {
     "name": "stdout",
     "output_type": "stream",
     "text": [
      "Total Positive: 45\n",
      "Total Negative: 12\n",
      "Total Neutral: 43\n"
     ]
    }
   ],
   "source": [
    "#One thing which we need to check is, if we write in capital such as 'HELLO!', does it make an impact:\n",
    "\n",
    "positive_total = data_1['positive'].sum()\n",
    "negative_total = data_1['negative'].sum()\n",
    "neutral_total = data_1['neutral'].sum()\n",
    "\n",
    "print(\"Total Positive:\", positive_total)\n",
    "print(\"Total Negative:\", negative_total)\n",
    "print(\"Total Neutral:\", neutral_total)"
   ]
  },
  {
   "cell_type": "markdown",
   "id": "e2b4f256-f51c-46c3-96f2-7ca6f0ed3b64",
   "metadata": {},
   "source": [
    "### Data Visulaization and plotting:"
   ]
  },
  {
   "cell_type": "code",
   "execution_count": 185,
   "id": "ab9dae18-3f95-40b4-b878-0a0ae75376f8",
   "metadata": {
    "tags": []
   },
   "outputs": [
    {
     "data": {
      "image/png": "[encoded data removed]",
      "text/plain": [
       "<Figure size 600x600 with 1 Axes>"
      ]
     },
     "metadata": {},
     "output_type": "display_data"
    }
   ],
   "source": [
    "import matplotlib.pyplot as plt\n",
    "\n",
    "# Set a color palette for the sentiment categories\n",
    "colors = ['#ff9999', '#66b3ff', '#99ff99']\n",
    "\n",
    "# Set the bar width (adjust this value as needed)\n",
    "bar_width = 0.5  # Narrower bars\n",
    "\n",
    "# Calculate the total sentiment counts for each category\n",
    "total_positive = sentiment_counts['positive'].sum()\n",
    "total_negative = sentiment_counts['negative'].sum()\n",
    "total_neutral = sentiment_counts['neutral'].sum()\n",
    "\n",
    "# Create a DataFrame for the total sentiment counts\n",
    "total_sentiment_counts = pd.DataFrame({\n",
    "    'Categories': ['Positive', 'Negative', 'Neutral'],\n",
    "    'Counts': [total_positive, total_negative, total_neutral]\n",
    "})\n",
    "\n",
    "# Plot a grouped bar chart for total sentiment distribution\n",
    "ax = total_sentiment_counts.plot(kind='bar', x='Categories', y='Counts', color=colors, figsize=(6, 6), width=bar_width, legend=False)\n",
    "\n",
    "# Set labels and title\n",
    "plt.title('Sentiment Analysis for Twitter Tweets')\n",
    "plt.xlabel('Sentiment Categories')\n",
    "plt.ylabel('Total Number of Sentences')\n",
    "\n",
    "# Customize the grid\n",
    "ax.yaxis.grid(color='gray', linestyle='--', linewidth=0.5)\n",
    "\n",
    "# Add labels to the bars\n",
    "for index, data in enumerate(total_sentiment_counts['Counts']):\n",
    "    plt.text(index, data, str(data), ha='center', va='bottom')\n",
    "\n",
    "# Show the plot\n",
    "plt.tight_layout()\n",
    "plt.show()"
   ]
  },
  {
   "cell_type": "code",
   "execution_count": 196,
   "id": "5f0fb350-b5f5-422e-9c16-0953b99fef2b",
   "metadata": {
    "tags": []
   },
   "outputs": [],
   "source": [
    "#Checking whether the analysis is correct or not....."
   ]
  },
  {
   "cell_type": "code",
   "execution_count": null,
   "id": "b4551480-dd8c-4eed-a3af-8e99643a98db",
   "metadata": {},
   "outputs": [],
   "source": []
  },
  {
   "cell_type": "code",
   "execution_count": null,
   "id": "a4f05450-2aa8-46ed-87cb-7ebf13ffb646",
   "metadata": {},
   "outputs": [],
   "source": []
  },
  {
   "cell_type": "code",
   "execution_count": 96,
   "id": "0fed686e-f09a-4308-84b5-6d124d6645bf",
   "metadata": {
    "tags": []
   },
   "outputs": [],
   "source": [
    "#We are going to list out the unique words - done\n",
    "#We will save it as a text data - csv\n",
    "#We will add these words to the excel with slangs\n",
    "#We will run the replacement function\n",
    "#Continue with the vector data"
   ]
  },
  {
   "cell_type": "code",
   "execution_count": 195,
   "id": "cd5f8c38-f66b-46b9-8945-282c78ddfeeb",
   "metadata": {
    "tags": []
   },
   "outputs": [
    {
     "data": {
      "text/plain": [
       "531"
      ]
     },
     "execution_count": 195,
     "metadata": {},
     "output_type": "execute_result"
    }
   ],
   "source": [
    "#Checking the count of words:\n",
    "\n",
    "# Combine all the lists of words into one list\n",
    "all_words = [word for sublist in data_1['stemmed_data'] for word in sublist]\n",
    "\n",
    "# Create a Series to count the words\n",
    "word_count = pd.Series(all_words).value_counts()\n",
    "\n",
    "# Print the word count\n",
    "len(word_count)"
   ]
  },
  {
   "cell_type": "code",
   "execution_count": 194,
   "id": "d2d2775f-9de0-4b4c-ab01-35e8b68b9b67",
   "metadata": {
    "tags": []
   },
   "outputs": [
    {
     "name": "stdout",
     "output_type": "stream",
     "text": [
      "0      basilicabotanica\n",
      "1                 arriv\n",
      "2                   say\n",
      "3               journey\n",
      "4                  much\n",
      "             ...       \n",
      "526                 see\n",
      "527      senseaboutmath\n",
      "528             playoff\n",
      "529               learn\n",
      "530             fashion\n",
      "Name: unique_words, Length: 531, dtype: object\n"
     ]
    }
   ],
   "source": [
    "# Flatten the list of lists\n",
    "flat_output_text = [word for sentence in data_1['stemmed_data'] for word in sentence]\n",
    "\n",
    "# Get unique elements\n",
    "unique_words = list(set(flat_output_text))\n",
    "\n",
    "# Create a new DataFrame or Series with the unique words\n",
    "unique_words_series = pd.Series(unique_words, name='unique_words')\n",
    "\n",
    "# Print or use unique_words_series as needed\n",
    "print(unique_words_series)"
   ]
  },
  {
   "cell_type": "code",
   "execution_count": null,
   "id": "bc6fc196-17b0-4f1d-898f-21543e6eebfc",
   "metadata": {},
   "outputs": [],
   "source": []
  },
  {
   "cell_type": "code",
   "execution_count": null,
   "id": "2a23d95b-d763-4615-812f-34e273413374",
   "metadata": {},
   "outputs": [],
   "source": []
  },
  {
   "cell_type": "markdown",
   "id": "88ea2b09-b48d-436d-8bc6-b4162b1191e6",
   "metadata": {},
   "source": [
    "# TBC"
   ]
  },
  {
   "cell_type": "markdown",
   "id": "1dcbdfb9-d0a6-4511-83ae-e3711750ad5b",
   "metadata": {},
   "source": [
    "### Text Vectorization:"
   ]
  },
  {
   "cell_type": "markdown",
   "id": "27fbb187-e8f9-4555-b1ec-43e300b91453",
   "metadata": {
    "tags": []
   },
   "source": [
    "### Load Pre-trained Word Embeddings (Word2Vec or GloVe):"
   ]
  },
  {
   "cell_type": "raw",
   "id": "0dd03a62-2f02-47b3-b0a1-87e5ce7b1eaf",
   "metadata": {},
   "source": [
    "Load pre-trained word embeddings (e.g., Word2Vec or GloVe) or train your own embedding layer.\n",
    "Tokenize your sentences into words.\n",
    "Convert each word into its corresponding vector representation from the embeddings."
   ]
  },
  {
   "cell_type": "code",
   "execution_count": 36,
   "id": "97e5cc89-a24d-42cb-b82f-d508a8139ffe",
   "metadata": {},
   "outputs": [],
   "source": [
    "import numpy as np\n",
    "\n",
    "# Load pre-trained GloVe vectors into a dictionary\n",
    "glove_embeddings = {}\n",
    "embedding_file = 'Downloads/Sentimental_analysis/SentimentalAnalysis_1-1/glove.6B.300d.txt'  # Change this to your file path\n",
    "with open(embedding_file, 'r', encoding='utf-8') as file:\n",
    "    for line in file:\n",
    "        values = line.split()\n",
    "        word = values[0]\n",
    "        vector = np.array(values[1:], dtype='float32')\n",
    "        glove_embeddings[word] = vector"
   ]
  },
  {
   "cell_type": "code",
   "execution_count": 37,
   "id": "efb7236c-69df-4d4e-972b-3e9c0cf3dcdf",
   "metadata": {},
   "outputs": [],
   "source": [
    "# Tokenize Your Sentences:\n",
    "\n",
    "# You already have your sentences tokenized into words. If you have a list of sentences as in your example, you can proceed directly."
   ]
  },
  {
   "cell_type": "code",
   "execution_count": 39,
   "id": "168da169-b731-4854-b264-92d0ca3176a0",
   "metadata": {
    "tags": []
   },
   "outputs": [
    {
     "data": {
      "text/plain": [
       "100"
      ]
     },
     "execution_count": 39,
     "metadata": {},
     "output_type": "execute_result"
    }
   ],
   "source": [
    "# Convert words into vector representations\n",
    "def words_to_vectors(words, embeddings):\n",
    "    vectorized_words = [embeddings[word] if word in embeddings else np.zeros(embeddings['the'].shape) for word in words]\n",
    "    return vectorized_words\n",
    "\n",
    "# Apply the 'words_to_vectors' function to your data\n",
    "data_1['vectorized_data'] = [words_to_vectors(sentence, glove_embeddings) for sentence in data_1['lemmatized_data']]\n",
    "first_row_data = data_1['vectorized_data'].iloc[0]\n",
    "len(data_1['vectorized_data'])"
   ]
  },
  {
   "cell_type": "code",
   "execution_count": 40,
   "id": "b3c33eb2-b7a9-4e02-b08e-0e53d4a5baf4",
   "metadata": {
    "tags": []
   },
   "outputs": [],
   "source": [
    "first_row_data = data_1['vectorized_data']\n",
    "\n",
    "# Assuming you have a pandas Series 'first_row_data'\n",
    "first_value = first_row_data.iloc[0]\n",
    "\n",
    "# Convert the list to a string representation\n",
    "first_value_str = str(first_value)\n",
    "\n",
    "file_path = \"first_row_data.txt\"  # The path to your text file\n",
    "with open(file_path, \"w\") as file:\n",
    "    file.write(first_value_str)"
   ]
  },
  {
   "cell_type": "code",
   "execution_count": 41,
   "id": "111be9c1-b4b3-4f2f-a691-84b8e78873d1",
   "metadata": {
    "tags": []
   },
   "outputs": [
    {
     "data": {
      "text/plain": [
       "0     [[-1.1169, 0.28015, 0.12901, -0.85792, 0.18844...\n",
       "1     [[-1.1169, 0.28015, 0.12901, -0.85792, 0.18844...\n",
       "2     [[-0.20754, -0.51705, 0.38977, 0.4795, -0.2305...\n",
       "3     [[-0.53858, 0.486, -0.043436, -0.40952, 0.1588...\n",
       "4     [[0.0, 0.0, 0.0, 0.0, 0.0, 0.0, 0.0, 0.0, 0.0,...\n",
       "                            ...                        \n",
       "95    [[-1.1169, 0.28015, 0.12901, -0.85792, 0.18844...\n",
       "96    [[-0.53858, 0.486, -0.043436, -0.40952, 0.1588...\n",
       "97    [[-0.57503, 0.072415, -0.63673, 0.34177, -0.08...\n",
       "98    [[-0.24263, -0.068464, -0.073068, 0.25641, -0....\n",
       "99    [[0.62879, 0.092931, 0.11965, 0.25851, -0.1581...\n",
       "Name: vectorized_data, Length: 100, dtype: object"
      ]
     },
     "execution_count": 41,
     "metadata": {},
     "output_type": "execute_result"
    }
   ],
   "source": [
    "first_row_data"
   ]
  },
  {
   "cell_type": "raw",
   "id": "a9baae7a-84af-48dd-8609-62f871404eaa",
   "metadata": {},
   "source": [
    "Padding and Sequences:\n",
    "Ensure that all sentences are of the same length by padding or truncating them as necessary.\n",
    "Prepare your data in the form of sequences (lists of word vectors) for input into the LSTM."
   ]
  },
  {
   "cell_type": "raw",
   "id": "194ee244-f34c-4cde-bde0-6fc78019c58d",
   "metadata": {},
   "source": [
    "To prepare your data for input into an LSTM, you need to ensure that all sentences are of the same length by padding or truncating them. Then, you can convert your data into sequences. You can use libraries like TensorFlow or Keras for this."
   ]
  },
  {
   "cell_type": "code",
   "execution_count": 42,
   "id": "85a23269-0b59-48fe-95a8-397c8ce60ed8",
   "metadata": {},
   "outputs": [],
   "source": [
    "#pip install tensorflow"
   ]
  },
  {
   "cell_type": "code",
   "execution_count": 43,
   "id": "d26d934e-24e3-4f57-9ff7-cd2784fa80bc",
   "metadata": {
    "tags": []
   },
   "outputs": [],
   "source": [
    "from keras.preprocessing.sequence import pad_sequences\n",
    "\n",
    "# Assuming you have 'vectorized_data' from the previous step\n",
    "# 'vectorized_data' is a list of sentences, each containing word vectors\n",
    "\n",
    "# Pad or truncate sequences to a fixed length (e.g., max_len)\n",
    "max_len = 20  # Set your desired sequence length\n",
    "\n",
    "# Pad or truncate each sentence within the sequences\n",
    "data_1['padded_sequences'] = [pad_sequences(sentence, maxlen=max_len, dtype='float32', padding='post', truncating='post') for sentence in data_1['vectorized_data']]"
   ]
  },
  {
   "cell_type": "raw",
   "id": "e5140851-d6f7-4217-813a-54da4eb138a0",
   "metadata": {},
   "source": [
    "Sentiment Labeling:\n",
    "Assign sentiment labels to your sentences (positive, negative, neutral, etc.)."
   ]
  },
  {
   "cell_type": "raw",
   "id": "de44c014-f3e5-439d-949a-2dc7fdb8fe38",
   "metadata": {},
   "source": [
    "Assigning sentiment labels to your sentences typically involves using a sentiment analysis model to classify each sentence into categories like \"positive,\" \"negative,\" or \"neutral.\" This requires a labeled dataset for training the model. However, without a labeled dataset or a sentiment analysis model, you might find it challenging to automatically assign sentiment labels.\n",
    "\n",
    "Here's a high-level overview of the steps involved:\n",
    "\n",
    "Labeled Dataset: You need a labeled dataset where each sentence is associated with a sentiment label (e.g., \"positive,\" \"negative,\" or \"neutral\"). If you don't have a labeled dataset, you might need to create one by manually annotating a subset of your sentences.\n",
    "\n",
    "Model Selection: Choose a sentiment analysis model. You can use pre-trained models like VADER, TextBlob, or train your own model using machine learning techniques such as Naive Bayes, Support Vector Machines, or deep learning models like LSTM or BERT.\n",
    "\n",
    "Training (if applicable): If you're training a model from scratch, you'll need to split your labeled dataset into training, validation, and test sets. Train the model on the training set, validate it on the validation set, and evaluate its performance using the test set.\n",
    "\n",
    "Inference: For each sentence, use your trained sentiment analysis model to predict the sentiment label. The model will output one of the sentiment categories (e.g., \"positive\").\n",
    "\n",
    "Assign Labels: Assign the predicted sentiment labels to your sentences, either by creating a new column in your dataset or updating an existing one.\n",
    "\n",
    "Here's an example of how you might use a pre-trained model like VADER in Python:\n",
    "\n",
    "\n",
    "# Assign the sentiment label to your dataset\n",
    "Keep in mind that using pre-trained models or training your own model depends on your specific needs and available resources. If you already have a labeled dataset and a sentiment analysis model, you can proceed with inference and assigning labels as shown above."
   ]
  },
  {
   "cell_type": "code",
   "execution_count": 44,
   "id": "65d9b9ec-015e-4757-9183-b800355e536b",
   "metadata": {
    "tags": []
   },
   "outputs": [
    {
     "data": {
      "text/plain": [
       "Index(['id', 'label', 'tweet', 'lemmatized_data', 'stemmed_data',\n",
       "       'vectorized_data', 'padded_sequences'],\n",
       "      dtype='object')"
      ]
     },
     "execution_count": 44,
     "metadata": {},
     "output_type": "execute_result"
    }
   ],
   "source": [
    "data_1.keys()"
   ]
  },
  {
   "cell_type": "code",
   "execution_count": 45,
   "id": "39f4c0e2-f261-441c-89c2-362de5b7b1e5",
   "metadata": {
    "tags": []
   },
   "outputs": [
    {
     "data": {
      "text/plain": [
       "0    [[-1.1169, 0.28015, 0.12901, -0.85792, 0.18844...\n",
       "Name: padded_sequences, dtype: object"
      ]
     },
     "execution_count": 45,
     "metadata": {},
     "output_type": "execute_result"
    }
   ],
   "source": [
    "data_1['padded_sequences'].head(1)"
   ]
  },
  {
   "cell_type": "code",
   "execution_count": null,
   "id": "4c8f11ec-b4df-4c92-ab22-4f86ce01cfd1",
   "metadata": {
    "tags": []
   },
   "outputs": [],
   "source": [
    "import pandas as pd\n",
    "from nltk.sentiment.vader import SentimentIntensityAnalyzer\n",
    "\n",
    "# Initialize the VADER sentiment analyzer\n",
    "analyzer = SentimentIntensityAnalyzer()\n",
    "\n",
    "# Iterate through the DataFrame and assign sentiment labels\n",
    "sentiment_labels = []\n",
    "\n",
    "for sequence in data_1['padded_sequences']:\n",
    "    # Convert the NumPy array to a list of strings\n",
    "    sentence = [str(word) for word in sequence]\n",
    "    \n",
    "    # Get sentiment scores\n",
    "    sentiment_scores = analyzer.polarity_scores(' '.join(sentence))\n",
    "    \n",
    "    # Determine the sentiment label based on the compound score\n",
    "    compound_score = sentiment_scores['compound']\n",
    "    if compound_score >= 0.01:\n",
    "        sentiment_label = \"positive\"\n",
    "    elif compound_score <= -0.01:\n",
    "        sentiment_label = \"negative\"\n",
    "    else:\n",
    "        sentiment_label = \"neutral\"\n",
    "    \n",
    "    sentiment_labels.append(sentiment_label)\n",
    "\n",
    "# Create a new column 'sentiment' in the DataFrame\n",
    "data_1['sentiment'] = sentiment_labels"
   ]
  },
  {
   "cell_type": "code",
   "execution_count": null,
   "id": "2b4cb062-1484-4393-b1cd-131c2364605e",
   "metadata": {},
   "outputs": [],
   "source": [
    "data_1['sentiment'].values"
   ]
  },
  {
   "cell_type": "code",
   "execution_count": null,
   "id": "8d0d3c1e-f4a0-4216-b239-41a4cd8d3d4b",
   "metadata": {},
   "outputs": [],
   "source": [
    "import pandas as pd\n",
    "from nltk.sentiment.vader import SentimentIntensityAnalyzer\n",
    "\n",
    "# Initialize the VADER sentiment analyzer\n",
    "analyzer = SentimentIntensityAnalyzer()\n",
    "\n",
    "# Iterate through the DataFrame and assign sentiment labels\n",
    "sentiment_labels = []\n",
    "\n",
    "for sequence in data_1['padded_sequences']:\n",
    "    # Convert the NumPy array to a list of strings\n",
    "    sentence = [str(word) for word in sequence]\n",
    "    \n",
    "    # Get sentiment scores\n",
    "    sentiment_scores = analyzer.polarity_scores(' '.join(sentence))\n",
    "    \n",
    "    # Determine the sentiment label based on the compound score\n",
    "    compound_score = sentiment_scores['compound']\n",
    "    if compound_score >= 0.05:\n",
    "        sentiment_label = \"positive\"\n",
    "    elif compound_score <= -0.05:\n",
    "        sentiment_label = \"negative\"\n",
    "    else:\n",
    "        sentiment_label = \"neutral\"\n",
    "    \n",
    "    sentiment_labels.append(sentiment_label)\n",
    "\n",
    "# Create a new column 'sentiment' in the DataFrame\n",
    "data_1['sentiment'] = sentiment_labels"
   ]
  },
  {
   "cell_type": "code",
   "execution_count": null,
   "id": "3fdf21c9-65db-4303-b815-418d30ae54b6",
   "metadata": {
    "tags": []
   },
   "outputs": [],
   "source": [
    "sentiment_scores['compound']"
   ]
  },
  {
   "cell_type": "code",
   "execution_count": null,
   "id": "5c55757c-e8c9-4bce-81c4-f871b6f5b982",
   "metadata": {},
   "outputs": [],
   "source": []
  },
  {
   "cell_type": "code",
   "execution_count": null,
   "id": "af302ca2-d8a5-4c83-840f-4515e8cf1d9a",
   "metadata": {},
   "outputs": [],
   "source": []
  },
  {
   "cell_type": "code",
   "execution_count": null,
   "id": "eab1ba92-8a8d-4d2a-baaf-aa55ae739137",
   "metadata": {},
   "outputs": [],
   "source": []
  },
  {
   "cell_type": "code",
   "execution_count": null,
   "id": "0a1ca2a8-4f10-453f-b8e7-042e3fd8d473",
   "metadata": {},
   "outputs": [],
   "source": []
  },
  {
   "cell_type": "code",
   "execution_count": null,
   "id": "62d36b96-dbd9-4b47-bb95-19609ebc7efe",
   "metadata": {},
   "outputs": [],
   "source": []
  },
  {
   "cell_type": "code",
   "execution_count": null,
   "id": "ab3236d4-5647-4646-985d-916e29a6913c",
   "metadata": {},
   "outputs": [],
   "source": []
  }
 ],
 "metadata": {
  "kernelspec": {
   "display_name": "Python 3 (ipykernel)",
   "language": "python",
   "name": "python3"
  },
  "language_info": {
   "codemirror_mode": {
    "name": "ipython",
    "version": 3
   },
   "file_extension": ".py",
   "mimetype": "text/x-python",
   "name": "python",
   "nbconvert_exporter": "python",
   "pygments_lexer": "ipython3",
   "version": "3.11.4"
  }
 },
 "nbformat": 4,
 "nbformat_minor": 5
}
